{
 "cells": [
  {
   "cell_type": "code",
   "execution_count": 1,
   "metadata": {},
   "outputs": [],
   "source": [
    "a = \"apple\" # single quotes \n",
    "b = \"applejuice\" # double quotes\n",
    "c = '''this is\n",
    "an example''' # triple quotes"
   ]
  },
  {
   "cell_type": "code",
   "execution_count": 2,
   "metadata": {},
   "outputs": [
    {
     "name": "stdout",
     "output_type": "stream",
     "text": [
      "a\n",
      "'a'[0]\n"
     ]
    }
   ],
   "source": [
    "print(a[0])\n",
    "print(\"'a'[0]\")"
   ]
  },
  {
   "cell_type": "code",
   "execution_count": 3,
   "metadata": {},
   "outputs": [
    {
     "name": "stdout",
     "output_type": "stream",
     "text": [
      "vijay\n"
     ]
    }
   ],
   "source": [
    "name = \"vijay deenanath chauhan\"\n",
    "print(name[0],name[1],name[2],name[3],name[4], sep='')"
   ]
  },
  {
   "cell_type": "code",
   "execution_count": 4,
   "metadata": {},
   "outputs": [
    {
     "name": "stdout",
     "output_type": "stream",
     "text": [
      "denanath \n",
      "vijay\n",
      "chauhan\n",
      "vijay\n",
      "chauhan\n",
      "vijay denanath chauhan\n",
      "vjydnnt \n",
      "vjydnnt hua\n",
      "nahuahc htananed yajiv\n"
     ]
    }
   ],
   "source": [
    "name = \"vijay denanath chauhan\"\n",
    "print(name[6:15])\n",
    "print(name[0:5])\n",
    "print(name[-7:23])\n",
    "print(name[:5])# start to 5 index\n",
    "print(name[-7:]) # -7 index to end\n",
    "print(name[:]) # start to end\n",
    "print(name[:15:2]) #start to 15 index with step 2\n",
    "print(name[::2]) # start to end with step 2\n",
    "print(name[::-1]) # revers the string"
   ]
  },
  {
   "cell_type": "code",
   "execution_count": 8,
   "metadata": {},
   "outputs": [
    {
     "data": {
      "text/plain": [
       "'nahua'"
      ]
     },
     "execution_count": 8,
     "metadata": {},
     "output_type": "execute_result"
    }
   ],
   "source": [
    "name[:][::-1][:5]"
   ]
  },
  {
   "cell_type": "code",
   "execution_count": 9,
   "metadata": {},
   "outputs": [
    {
     "data": {
      "text/plain": [
       "'brucewayne'"
      ]
     },
     "execution_count": 9,
     "metadata": {},
     "output_type": "execute_result"
    }
   ],
   "source": [
    "fname = \"bruce\"\n",
    "lname =\"wayne\"\n",
    "fname + lname # concatenation"
   ]
  },
  {
   "cell_type": "code",
   "execution_count": 5,
   "metadata": {},
   "outputs": [
    {
     "data": {
      "text/plain": [
       "' oo  oo  oo  oo  oo  oo  oo  oo  oo  oo '"
      ]
     },
     "execution_count": 5,
     "metadata": {},
     "output_type": "execute_result"
    }
   ],
   "source": [
    "' oo ' * 10 # repetition"
   ]
  },
  {
   "cell_type": "markdown",
   "metadata": {},
   "source": [
    "string methods\n"
   ]
  },
  {
   "cell_type": "code",
   "execution_count": 30,
   "metadata": {},
   "outputs": [
    {
     "data": {
      "text/plain": [
       "'Vijay denanath chauhan'"
      ]
     },
     "execution_count": 30,
     "metadata": {},
     "output_type": "execute_result"
    }
   ],
   "source": [
    "name.capitalize()"
   ]
  },
  {
   "cell_type": "code",
   "execution_count": 15,
   "metadata": {},
   "outputs": [
    {
     "name": "stdout",
     "output_type": "stream",
     "text": [
      "4\n",
      "-1\n",
      "5\n",
      "the queen went to the jungle\n",
      "the king went to the castle\n",
      "the queen went to the castle\n"
     ]
    }
   ],
   "source": [
    "sentence = 'the king went to the jungle'\n",
    "print(sentence.find('king'))\n",
    "print(sentence.find('queen')) # -1 if not found\n",
    "print(sentence.find('in'))\n",
    "print(sentence.replace('king', 'queen'))\n",
    "print(sentence.replace('jungle', 'castle'))\n",
    "sentence2 = sentence.replace('king', 'queen').replace('jungle','castle')\n",
    "print(sentence2)"
   ]
  },
  {
   "cell_type": "code",
   "execution_count": 16,
   "metadata": {},
   "outputs": [
    {
     "data": {
      "text/plain": [
       "'tho king wont to tho junglo'"
      ]
     },
     "execution_count": 16,
     "metadata": {},
     "output_type": "execute_result"
    }
   ],
   "source": [
    "sentence.replace('e', 'o')"
   ]
  },
  {
   "cell_type": "markdown",
   "metadata": {},
   "source": [
    "split and join"
   ]
  },
  {
   "cell_type": "code",
   "execution_count": 17,
   "metadata": {},
   "outputs": [
    {
     "data": {
      "text/plain": [
       "['the', 'king', 'went', 'to', 'the', 'jungle']"
      ]
     },
     "execution_count": 17,
     "metadata": {},
     "output_type": "execute_result"
    }
   ],
   "source": [
    "sentence.split()"
   ]
  },
  {
   "cell_type": "code",
   "execution_count": 18,
   "metadata": {},
   "outputs": [
    {
     "data": {
      "text/plain": [
       "['apple', 'banana', 'orange', 'mango']"
      ]
     },
     "execution_count": 18,
     "metadata": {},
     "output_type": "execute_result"
    }
   ],
   "source": [
    "s3 = 'apple,banana,orange,mango'\n",
    "s3.split(',')"
   ]
  },
  {
   "cell_type": "code",
   "execution_count": 20,
   "metadata": {},
   "outputs": [
    {
     "name": "stdout",
     "output_type": "stream",
     "text": [
      "['', 'twinkle, twinkle, little star,', 'how i wonder what you are!', 'up above the world so high,', 'like a diamond in the sky.']\n",
      "['twinkle,', 'twinkle,', 'little', 'star,', 'how', 'i', 'wonder', 'what', 'you', 'are!', 'up', 'above', 'the', 'world', 'so', 'high,', 'like', 'a', 'diamond', 'in', 'the', 'sky.']\n",
      "['\\ntwinkle', ' twinkle', ' little star', '\\nhow i wonder what you are!\\nup above the world so high', '\\nlike a diamond in the sky.\\n']\n"
     ]
    }
   ],
   "source": [
    "poem = '''\n",
    "twinkle, twinkle, little star,\n",
    "how i wonder what you are!\n",
    "up above the world so high,\n",
    "like a diamond in the sky.\n",
    "'''\n",
    "\n",
    "print(poem.splitlines()) # better than split('\\n)\n",
    "print(poem.split())\n",
    "print(poem.split(','))"
   ]
  },
  {
   "cell_type": "code",
   "execution_count": 21,
   "metadata": {},
   "outputs": [
    {
     "name": "stdout",
     "output_type": "stream",
     "text": [
      "c: home user document file.text\n",
      "c:/home/user/document/file.text\n",
      "c:,home,user,document,file.text\n",
      "c:homeuserdocumentfile.text\n",
      "c:###home###user###document###file.text\n"
     ]
    }
   ],
   "source": [
    "path = ['c:', 'home','user','document','file.text']\n",
    "\n",
    "print(\" \".join(path))\n",
    "print(\"/\".join(path))\n",
    "print(\",\".join(path))\n",
    "print(\"\".join(path))\n",
    "print(\"###\".join(path))"
   ]
  },
  {
   "cell_type": "markdown",
   "metadata": {},
   "source": [
    "count,startswith and endwith\n",
    "\n"
   ]
  },
  {
   "cell_type": "code",
   "execution_count": 3,
   "metadata": {},
   "outputs": [
    {
     "data": {
      "text/plain": [
       "1"
      ]
     },
     "execution_count": 3,
     "metadata": {},
     "output_type": "execute_result"
    }
   ],
   "source": [
    "story = 'once there was a king . he was very powerful. he had a beautiful queen.'\n",
    "story.count('queen')"
   ]
  },
  {
   "cell_type": "code",
   "execution_count": 7,
   "metadata": {},
   "outputs": [
    {
     "name": "stdout",
     "output_type": "stream",
     "text": [
      "['12.Strong.2018.480p.Bluray.Hindi.English.Esubs.themoviesflix.com.mkv', '321198155_608876784329882_3895783255733386998_n.jpg', 'AnnualCalendar-2024-engl-100523 prashant kaushik.pdf', 'AnnuCalend_2023_Eng_04052022 prashant kaushik.pdf', 'atal bihari mall resume.docx', 'bittorrent_installer.exe', 'BlueStacks10Installer_10.3.20.1004_native_fe2e0bfa7b8998234e6bc14129c89e2d_MzsxNSwwOzUsMTsxNSw0OzE1.exe', 'BlueStacksInstaller_5.11.42.1002_native_9b7a1666cca2e76de99e5ee1d7125c4b_MzsxNSwwOzUsMTsxNSw0OzE1.exe', 'btweb_installer.exe', 'ChromeSetup (1).exe', 'ChromeSetup (2).exe', 'ChromeSetup.exe', 'cloudpredictionsystemproject.csv.zip', 'codeblocks-20.03-setup.exe', 'cpu-z_2.05-en.exe', 'Data_so (1).bin', 'Data_so.bin', 'desktop.ini', 'devcpp-4.9.9.2_setup (1).exe', 'devcpp-4.9.9.2_setup.exe', 'dk.jpg', 'DK_FRONTPAGE.pdf', 'DocScanner Jun 19, 2023 10-57 (1).pdf', 'DocScanner Jun 19, 2023 11-00.pdf', 'DocScanner Jun 19, 2023 11-02.pdf', 'document_6318668504765563673.mp4', 'DSD Zindabad  (1).pdf', 'DSD Zindabad .pdf', 'dxwebsetup.exe', 'FaceCheck - Reverse Image Search - Face Recognition Search Engine.html', 'FaceCheck - Reverse Image Search - Face Recognition Search Engine_files', 'Farzi S01E08 Hindi 1080p WEBDL ESub [BollyFlix].mkv', 'flowchart.png', 'Git-2.43.0-64-bit (1).exe', 'Git-2.43.0-64-bit.exe', 'hacker.deskthemepack', 'ideaIE-2022.2.2.exe', 'ImageToPDF_1687152614970 (1).pdf', 'ImageToPDF_1687152614970 (2).pdf', 'ImageToPDF_1687152614970 (3).pdf', 'ImageToPDF_1687152614970 (4).pdf', 'ImageToPDF_1687152614970 (5).pdf', 'ImageToPDF_1687152614970 (6).pdf', 'ImageToPDF_1687152614970 (7).pdf', 'ImageToPDF_1687152614970 (8).pdf', 'ImageToPDF_1687152614970.pdf', 'ImageToPDF_1687152664072.pdf', 'Jawan 2023 Hindi (Clean Audio) 1080p HQ S-Print.mkv', 'jdk-21_windows-x64_bin.msi', 'let-us-C++-yashwant-kanetkar.pdf', 'let-us-c-14 (1).pdf', 'let-us-c-14.pdf', 'litecam_hd-5.5.0.3-installer_c9g24-1.exe', 'minecraft-1-20-10-23-xbox-servers.apk', 'mingw-w64-v10.0.0.zip', 'Miniconda3-latest-Windows-x86_64 (1).exe', 'Miniconda3-latest-Windows-x86_64.exe', 'Network theory (1).pdf', 'Network theory.pdf', 'New Flowchart.jpg', 'New folder', 'Notes-Module-wise-KCS101-KCS201 (1).pdf', 'Notes-Module-wise-KCS101-KCS201 (2).pdf', 'Notes-Module-wise-KCS101-KCS201.pdf', 'nox_setup_v7.0.5.1_full_intl.exe', 'OperaGXSetup (1).exe', 'OperaGXSetup.exe', 'OperaSetup.exe', 'Payment-Slip (1).pdf', 'Payment-Slip.pdf', 'PortableGit-2.43.0-64-bit.7z.exe', 'powerset.csv', 'practical 2-5.pdf', 'pronounceinstaller.exe', 'py.jpg', 'python-3.12.0-amd64.exe', 'python-3.12.1-amd64.exe', 'RainPrediction2.ipynb', 'reflection1.deskthemepack', 'Resso-0.18.2.3430-installer.exe', 'scrcpy-win64-v2.3', 'scrcpy-win64-v2.3.zip', 'Shatterline Installer.rar', 'sndcpy-v1.1.zip', 'SteamSetup.exe', 'The Martian (2015) TC 2160p BluRay 4K UHD SDR x265 10bit HEVC [Org Hindi (Cleaned) DD 2.0 224kbps + English AAC 7.1] ESubs ~ PSA (PrivateMoviez).mkv', 'tor-0.4.7.14.tar.gz', 'tor-0.4.8.2-alpha.tar.gz', 'tor-expert-bundle-12.5.1-windows-x86_64.tar.gz', 'torbrowser-install-win64-12.5.1_ALL.exe', 'Turbo.C.3.2', 'TypingMaster11 (1).exe', 'TypingMaster11 (2).exe', 'TypingMaster11.exe', 'unit 5 EE notes.pdf', 'vlc-3.0.18-win64.exe', 'vpnkitsetup.exe', 'VSCodeUserSetup-x64-1.76.0 (1).exe', 'VSCodeUserSetup-x64-1.76.0.exe', 'VSCodeUserSetup-x64-1.85.2.exe', 'weather parameters for 15 days.jpg', 'WhatsApp Image 2023-10-30 at 22.10.42.jpeg']\n"
     ]
    }
   ],
   "source": [
    "import os\n",
    "\n",
    "content = os.listdir('c:/users/GF63/downloads')\n",
    "print(content)"
   ]
  },
  {
   "cell_type": "code",
   "execution_count": 8,
   "metadata": {},
   "outputs": [
    {
     "name": "stdout",
     "output_type": "stream",
     "text": [
      "321198155_608876784329882_3895783255733386998_n.jpg\n",
      "dk.jpg\n",
      "New Flowchart.jpg\n",
      "py.jpg\n",
      "weather parameters for 15 days.jpg\n"
     ]
    }
   ],
   "source": [
    "for item  in content:\n",
    "   if item.endswith('.jpg'):\n",
    "      print(item)"
   ]
  },
  {
   "cell_type": "code",
   "execution_count": 12,
   "metadata": {},
   "outputs": [
    {
     "name": "stdout",
     "output_type": "stream",
     "text": [
      "False\n"
     ]
    }
   ],
   "source": [
    "word = \"excellent\"\n",
    "print(word.startswith(\"ev\"))"
   ]
  },
  {
   "cell_type": "code",
   "execution_count": 4,
   "metadata": {},
   "outputs": [
    {
     "name": "stdout",
     "output_type": "stream",
     "text": [
      "0\n"
     ]
    }
   ],
   "source": [
    "sentence = input (\"enter a sentence\")\n",
    "words = sentence.split()\n",
    "total = 0\n",
    "for words in words:\n",
    "    size = len(words)\n",
    "    if size % 2 == 0:\n",
    "        total+=1\n",
    "print(total) \n",
    "       "
   ]
  },
  {
   "cell_type": "code",
   "execution_count": 6,
   "metadata": {},
   "outputs": [
    {
     "name": "stdout",
     "output_type": "stream",
     "text": [
      "10\n",
      "-1\n",
      "2\n"
     ]
    }
   ],
   "source": [
    "a = 'this is a message'\n",
    "a.find('is')\n",
    "print(a.find('mess'))\n",
    "print(a.find('are'))\n",
    "print(a.find('is' ,3)) #stert from index 3\n",
    "#index is a same as find but it thrown an error if not found \n",
    "print(a.index('is'))\n",
    "print(a.index('is', 3)) # stert from index 3 \n",
    "print(a.index('are')) # "
   ]
  },
  {
   "cell_type": "code",
   "execution_count": 7,
   "metadata": {},
   "outputs": [
    {
     "name": "stdout",
     "output_type": "stream",
     "text": [
      "this is a message\n",
      "thwas was a message\n",
      "this is a letter\n",
      "khis is a lekter\n"
     ]
    }
   ],
   "source": [
    "print(a)\n",
    "b = a.replace(\"is\", \"was\")\n",
    "print(b)\n",
    "c =b.replace('message' , 'letter').replace('was' , 'is') # chain\n",
    "print(c)\n",
    "d = c.replace('t' , 'k', 2) # replace only first 2 occurences\n",
    "print(d)\n"
   ]
  },
  {
   "cell_type": "code",
   "execution_count": 9,
   "metadata": {},
   "outputs": [
    {
     "data": {
      "text/plain": [
       "'hellow'"
      ]
     },
     "execution_count": 9,
     "metadata": {},
     "output_type": "execute_result"
    }
   ],
   "source": [
    "# replace as remove \n",
    "data = \"he!!!!!!!!!!!!!!llow\"\n",
    "data.replace('!' , '') #remove all\n"
   ]
  },
  {
   "cell_type": "markdown",
   "metadata": {},
   "source": [
    "wap to remove all vowels from string"
   ]
  },
  {
   "cell_type": "code",
   "execution_count": 11,
   "metadata": {},
   "outputs": [
    {
     "data": {
      "text/plain": [
       "'wlcm t my wrld'"
      ]
     },
     "execution_count": 11,
     "metadata": {},
     "output_type": "execute_result"
    }
   ],
   "source": [
    "\"welcome to my world\".replace('a','').replace('e', '').replace('i','').replace('o', '').replace('u','')  "
   ]
  },
  {
   "cell_type": "markdown",
   "metadata": {},
   "source": []
  },
  {
   "cell_type": "code",
   "execution_count": 12,
   "metadata": {},
   "outputs": [
    {
     "name": "stdout",
     "output_type": "stream",
     "text": [
      "4\n",
      "2\n",
      "1\n",
      "0\n"
     ]
    }
   ],
   "source": [
    "msg = 'one two three one two'\n",
    "print(msg.count(\"o\"))\n",
    "print(msg.count(\"one\"))\n",
    "print(msg.count(\"ee\"))\n",
    "print(msg.count(\"four\"))"
   ]
  },
  {
   "cell_type": "markdown",
   "metadata": {},
   "source": []
  },
  {
   "cell_type": "code",
   "execution_count": 16,
   "metadata": {},
   "outputs": [
    {
     "name": "stdout",
     "output_type": "stream",
     "text": [
      "14   money power \n",
      "11 money power\n"
     ]
    }
   ],
   "source": [
    "name ='  money power '\n",
    "print(len(name), name )\n",
    "clean_name = name.strip()\n",
    "print(len(clean_name),clean_name)"
   ]
  },
  {
   "cell_type": "code",
   "execution_count": 17,
   "metadata": {},
   "outputs": [],
   "source": [
    "name = [\n",
    "    'john',\n",
    "    'alex',\n",
    "    'jane',\n",
    "    'alexa',\n",
    "    'yakubb'\n",
    "    \n",
    "]"
   ]
  },
  {
   "cell_type": "markdown",
   "metadata": {},
   "source": [
    "display the data after removing all leading and tralling spaces and making it upper case"
   ]
  },
  {
   "cell_type": "code",
   "execution_count": 19,
   "metadata": {},
   "outputs": [
    {
     "name": "stdout",
     "output_type": "stream",
     "text": [
      "20    elcome o y ountry\n",
      "17 elcome o y ountry\n"
     ]
    }
   ],
   "source": [
    "name = \"   Welcome To My Country\".replace('W', '').replace('T', '').replace('M', '').replace('C', '')\n",
    "print(len(name), name)\n",
    "clean_name = name.strip()\n",
    "print(len(clean_name),clean_name)\n"
   ]
  },
  {
   "cell_type": "markdown",
   "metadata": {},
   "source": []
  },
  {
   "cell_type": "code",
   "execution_count": 23,
   "metadata": {},
   "outputs": [
    {
     "name": "stdout",
     "output_type": "stream",
     "text": [
      "JOHN\n",
      "ALEX\n",
      "ALEXA\n",
      "JACOB\n"
     ]
    }
   ],
   "source": [
    "name = ['john','alex','alexa','jacob']\n",
    "for i in name:\n",
    "    print(i.strip().upper())"
   ]
  },
  {
   "cell_type": "code",
   "execution_count": null,
   "metadata": {},
   "outputs": [],
   "source": []
  }
 ],
 "metadata": {
  "kernelspec": {
   "display_name": "Python 3",
   "language": "python",
   "name": "python3"
  },
  "language_info": {
   "codemirror_mode": {
    "name": "ipython",
    "version": 3
   },
   "file_extension": ".py",
   "mimetype": "text/x-python",
   "name": "python",
   "nbconvert_exporter": "python",
   "pygments_lexer": "ipython3",
   "version": "3.12.1"
  }
 },
 "nbformat": 4,
 "nbformat_minor": 2
}
