{
 "cells": [
  {
   "cell_type": "code",
   "execution_count": 3,
   "metadata": {},
   "outputs": [
    {
     "name": "stdout",
     "output_type": "stream",
     "text": [
      "['the way of king', 2009, 'brandon sanderson', 1000, 'fantasy novel', 10.0, 23094]\n"
     ]
    }
   ],
   "source": [
    "data =['the way of king',2009,\n",
    "       'brandon sanderson', 1000,\n",
    "       'fantasy novel', 10.0 ,23094]\n",
    "print(data)\n",
    "       "
   ]
  },
  {
   "cell_type": "markdown",
   "metadata": {},
   "source": [
    "dictonary\n",
    "= keys are always imutable and unique.\n",
    "\n",
    "= values are mutable and can be duplicate .\n",
    "\n",
    "= keys are case-sensitive.\n",
    "\n",
    "= dictonary is onordered"
   ]
  },
  {
   "cell_type": "code",
   "execution_count": 4,
   "metadata": {},
   "outputs": [
    {
     "name": "stdout",
     "output_type": "stream",
     "text": [
      "{'title': 'the eay of king', 'year': 2009, 'author': 'brandon sanderson', 'price': 1000, 'genre': 'fantasy novel', 'rating': 10.0, 'vote': 23094}\n"
     ]
    }
   ],
   "source": [
    "data = {\n",
    "    'title': 'the eay of king',\n",
    "'year': 2009,\n",
    "'author':'brandon sanderson',\n",
    "'price': 1000,\n",
    "'genre':'fantasy novel',\n",
    "'rating': 10.0,\n",
    "'vote':23094\n",
    "}\n",
    "print(data)"
   ]
  },
  {
   "cell_type": "code",
   "execution_count": 5,
   "metadata": {},
   "outputs": [
    {
     "name": "stdout",
     "output_type": "stream",
     "text": [
      "the eay of king\n",
      "brandon sanderson\n"
     ]
    }
   ],
   "source": [
    "print(data['title'])\n",
    "print(data['author'])"
   ]
  },
  {
   "cell_type": "code",
   "execution_count": 6,
   "metadata": {},
   "outputs": [
    {
     "name": "stdout",
     "output_type": "stream",
     "text": [
      "None\n",
      "1000\n"
     ]
    }
   ],
   "source": [
    "print(data.get('pages'))\n",
    "print(data.get('price'))"
   ]
  },
  {
   "cell_type": "code",
   "execution_count": 7,
   "metadata": {},
   "outputs": [
    {
     "data": {
      "text/plain": [
       "<function dict.keys>"
      ]
     },
     "execution_count": 7,
     "metadata": {},
     "output_type": "execute_result"
    }
   ],
   "source": [
    "data.keys"
   ]
  },
  {
   "cell_type": "code",
   "execution_count": 8,
   "metadata": {},
   "outputs": [
    {
     "data": {
      "text/plain": [
       "dict_values(['the eay of king', 2009, 'brandon sanderson', 1000, 'fantasy novel', 10.0, 23094])"
      ]
     },
     "execution_count": 8,
     "metadata": {},
     "output_type": "execute_result"
    }
   ],
   "source": [
    "data.values()"
   ]
  },
  {
   "cell_type": "code",
   "execution_count": 9,
   "metadata": {},
   "outputs": [
    {
     "data": {
      "text/plain": [
       "dict_items([('title', 'the eay of king'), ('year', 2009), ('author', 'brandon sanderson'), ('price', 1000), ('genre', 'fantasy novel'), ('rating', 10.0), ('vote', 23094)])"
      ]
     },
     "execution_count": 9,
     "metadata": {},
     "output_type": "execute_result"
    }
   ],
   "source": [
    "data.items()"
   ]
  },
  {
   "cell_type": "code",
   "execution_count": 14,
   "metadata": {},
   "outputs": [
    {
     "name": "stdout",
     "output_type": "stream",
     "text": [
      "{'name': 'the lion king', 'author': 'salman khan', 'year': '2019', 'session ': '2019', 'director': 'sons and sons'}\n"
     ]
    },
    {
     "ename": "",
     "evalue": "",
     "output_type": "error",
     "traceback": [
      "\u001b[1;31mThe Kernel crashed while executing code in the current cell or a previous cell. \n",
      "\u001b[1;31mPlease review the code in the cell(s) to identify a possible cause of the failure. \n",
      "\u001b[1;31mClick <a href='https://aka.ms/vscodeJupyterKernelCrash'>here</a> for more info. \n",
      "\u001b[1;31mView Jupyter <a href='command:jupyter.viewOutput'>log</a> for further details."
     ]
    }
   ],
   "source": [
    "movies = {}\n",
    "for i in range(5):\n",
    "    key = input('enter the keys: ')\n",
    "    value = input('enter the value: ')\n",
    "    movies[key] = value\n",
    "print(movies)"
   ]
  },
  {
   "cell_type": "code",
   "execution_count": null,
   "metadata": {},
   "outputs": [],
   "source": []
  }
 ],
 "metadata": {
  "kernelspec": {
   "display_name": "Python 3",
   "language": "python",
   "name": "python3"
  },
  "language_info": {
   "codemirror_mode": {
    "name": "ipython",
    "version": 3
   },
   "file_extension": ".py",
   "mimetype": "text/x-python",
   "name": "python",
   "nbconvert_exporter": "python",
   "pygments_lexer": "ipython3",
   "version": "3.12.1"
  }
 },
 "nbformat": 4,
 "nbformat_minor": 2
}
