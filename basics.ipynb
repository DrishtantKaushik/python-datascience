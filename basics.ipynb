{
 "cells": [
  {
   "cell_type": "code",
   "execution_count": 13,
   "metadata": {},
   "outputs": [
    {
     "data": {
      "text/plain": [
       "1010"
      ]
     },
     "execution_count": 13,
     "metadata": {},
     "output_type": "execute_result"
    }
   ],
   "source": [
    "1000 + 10 "
   ]
  },
  {
   "cell_type": "code",
   "execution_count": 12,
   "metadata": {},
   "outputs": [
    {
     "data": {
      "text/plain": [
       "8"
      ]
     },
     "execution_count": 12,
     "metadata": {},
     "output_type": "execute_result"
    }
   ],
   "source": [
    "10 -2"
   ]
  },
  {
   "cell_type": "code",
   "execution_count": 17,
   "metadata": {},
   "outputs": [],
   "source": [
    "name = \"Drishtant kaushik\"\n",
    "age = 22 \n",
    "can_vote  = True"
   ]
  },
  {
   "cell_type": "code",
   "execution_count": 15,
   "metadata": {},
   "outputs": [
    {
     "data": {
      "text/plain": [
       "10"
      ]
     },
     "execution_count": 15,
     "metadata": {},
     "output_type": "execute_result"
    }
   ],
   "source": [
    "12 - 2"
   ]
  },
  {
   "cell_type": "code",
   "execution_count": 16,
   "metadata": {},
   "outputs": [
    {
     "data": {
      "text/plain": [
       "26"
      ]
     },
     "execution_count": 16,
     "metadata": {},
     "output_type": "execute_result"
    }
   ],
   "source": [
    "13*2"
   ]
  },
  {
   "cell_type": "code",
   "execution_count": 18,
   "metadata": {},
   "outputs": [],
   "source": [
    "a = 5\n",
    "a += 20\n",
    "a -= 10"
   ]
  },
  {
   "cell_type": "code",
   "execution_count": 25,
   "metadata": {},
   "outputs": [
    {
     "name": "stdout",
     "output_type": "stream",
     "text": [
      "True\n",
      "False\n",
      "False\n"
     ]
    }
   ],
   "source": [
    "a , b = 10 , 3\n",
    "print(a > b)\n",
    "print(a < b)\n",
    "print(a == b)\n",
    "print(a == b)\n",
    "print(a == b)\n",
    "print(a == b)\n",
    "print(a == b)\n",
    "print(a == b)\n",
    "print(a == b)\n"
   ]
  },
  {
   "cell_type": "code",
   "execution_count": 24,
   "metadata": {},
   "outputs": [
    {
     "data": {
      "text/plain": [
       "False"
      ]
     },
     "execution_count": 24,
     "metadata": {},
     "output_type": "execute_result"
    }
   ],
   "source": [
    "a , b = 10 , 3\n",
    "a < b "
   ]
  },
  {
   "cell_type": "code",
   "execution_count": null,
   "metadata": {},
   "outputs": [
    {
     "data": {
      "text/plain": [
       "False"
      ]
     },
     "metadata": {},
     "output_type": "display_data"
    }
   ],
   "source": [
    "a , b = 10 , 3\n",
    "a < b "
   ]
  },
  {
   "cell_type": "code",
   "execution_count": null,
   "metadata": {},
   "outputs": [
    {
     "data": {
      "text/plain": [
       "False"
      ]
     },
     "metadata": {},
     "output_type": "display_data"
    }
   ],
   "source": [
    "a , b = 10 , 3\n",
    "a < b "
   ]
  },
  {
   "cell_type": "code",
   "execution_count": null,
   "metadata": {},
   "outputs": [
    {
     "data": {
      "text/plain": [
       "False"
      ]
     },
     "metadata": {},
     "output_type": "display_data"
    }
   ],
   "source": [
    "a , b = 10 , 3\n",
    "a < b "
   ]
  },
  {
   "cell_type": "code",
   "execution_count": null,
   "metadata": {},
   "outputs": [
    {
     "data": {
      "text/plain": [
       "False"
      ]
     },
     "metadata": {},
     "output_type": "display_data"
    }
   ],
   "source": [
    "a , b = 10 , 3\n",
    "a < b "
   ]
  },
  {
   "cell_type": "code",
   "execution_count": null,
   "metadata": {},
   "outputs": [
    {
     "data": {
      "text/plain": [
       "False"
      ]
     },
     "metadata": {},
     "output_type": "display_data"
    }
   ],
   "source": [
    "a , b = 10 , 3\n",
    "a < b "
   ]
  },
  {
   "cell_type": "code",
   "execution_count": null,
   "metadata": {},
   "outputs": [
    {
     "data": {
      "text/plain": [
       "False"
      ]
     },
     "metadata": {},
     "output_type": "display_data"
    }
   ],
   "source": [
    "a , b = 10 , 3\n",
    "a < b "
   ]
  },
  {
   "cell_type": "markdown",
   "metadata": {},
   "source": [
    "logical operators and or not "
   ]
  },
  {
   "cell_type": "code",
   "execution_count": 50,
   "metadata": {},
   "outputs": [
    {
     "name": "stdout",
     "output_type": "stream",
     "text": [
      "False\n",
      "True\n",
      "True\n"
     ]
    }
   ],
   "source": [
    "x = 'apple' \n",
    "y = 'banana'\n",
    "print(x=='apple' and x == y) \n",
    "print(x=='apple'or x == y)\n",
    "print(x=='apple' or x == y)"
   ]
  },
  {
   "cell_type": "code",
   "execution_count": 33,
   "metadata": {},
   "outputs": [],
   "source": [
    "fruits = [ 'mango ','banana','cheery', 'avacado' ]"
   ]
  },
  {
   "cell_type": "code",
   "execution_count": 34,
   "metadata": {},
   "outputs": [
    {
     "data": {
      "text/plain": [
       "True"
      ]
     },
     "execution_count": 34,
     "metadata": {},
     "output_type": "execute_result"
    }
   ],
   "source": [
    "\"avacado\" in fruits"
   ]
  },
  {
   "cell_type": "markdown",
   "metadata": {},
   "source": [
    "input and output"
   ]
  },
  {
   "cell_type": "code",
   "execution_count": 46,
   "metadata": {},
   "outputs": [
    {
     "name": "stdout",
     "output_type": "stream",
     "text": [
      "principal 1000\n",
      "rate 10.0\n",
      "time 122\n",
      "simple interest 12200.0\n",
      "ampunt 13200.0\n"
     ]
    }
   ],
   "source": [
    "p = int(input('Principal: '))\n",
    "r = float(input('Rate:'))\n",
    "t = int(input('Time:'))\n",
    "si = p * r * t / 100\n",
    "print('principal', p)\n",
    "print('rate', r)\n",
    "print('time', t)\n",
    "print('simple interest',si)\n",
    "print('ampunt',si + p)"
   ]
  },
  {
   "cell_type": "code",
   "execution_count": 23,
   "metadata": {},
   "outputs": [
    {
     "name": "stdout",
     "output_type": "stream",
     "text": [
      "Alexia Seattle\n",
      "Alexia\n",
      "Seattle\n",
      "Alexia\n",
      "Seattle\n",
      "Alexia,Seattle\n",
      "f{name} lives in {city}\n"
     ]
    }
   ],
   "source": [
    "name = \"Alexia\"\n",
    "city = \"Seattle\"\n",
    "print (name, city)\n",
    "print (name)\n",
    "print(city)\n",
    "print(name ,city ,sep='\\n')\n",
    "print(name,city,sep=',')\n",
    "print( 'f{name} lives in {city}')"
   ]
  },
  {
   "cell_type": "code",
   "execution_count": null,
   "metadata": {},
   "outputs": [
    {
     "name": "stdout",
     "output_type": "stream",
     "text": [
      "you purchased item for more then $200\n",
      "you get a 10%\n",
      "total 1800.0\n"
     ]
    }
   ],
   "source": [
    "qty = 10\n",
    "price = 200.00\n",
    "total = qty * price\n",
    "if total > 200:\n",
    "    print ('you purchased item for more then $200')\n",
    "    print('you get a 10%')\n",
    "    total = total *0.9 # 90%of total \n",
    "    print('total', total)   "
   ]
  },
  {
   "cell_type": "code",
   "execution_count": 25,
   "metadata": {},
   "outputs": [
    {
     "name": "stdout",
     "output_type": "stream",
     "text": [
      "odd num 789\n"
     ]
    }
   ],
   "source": [
    "number = int(input('enter a number:'))\n",
    "if number % 2 == 0:\n",
    "    print(f'even num {number }')\n",
    "else:\n",
    "    print(f'odd num {number}')"
   ]
  },
  {
   "cell_type": "code",
   "execution_count": 26,
   "metadata": {},
   "outputs": [
    {
     "name": "stdout",
     "output_type": "stream",
     "text": [
      "percentage 57.166666666666664%\n",
      "Grade D\n"
     ]
    }
   ],
   "source": [
    "marks = int(input('enter total marks you got:'))\n",
    "total = 600\n",
    "pct = marks / total * 100\n",
    "print(f'percentage {pct}%')\n",
    "if pct >= 90:\n",
    "    print('Grade A+')\n",
    "elif pct >= 80:\n",
    "    print('Grade A')\n",
    "elif pct >= 70:\n",
    "    print('Grade B')\n",
    "elif pct >= 60:\n",
    "    print('Grade c')\n",
    "elif pct >= 50:\n",
    "    print('Grade D')"
   ]
  },
  {
   "cell_type": "code",
   "execution_count": 30,
   "metadata": {},
   "outputs": [
    {
     "name": "stdout",
     "output_type": "stream",
     "text": [
      "what is the capital of uttrakhand?\n",
      "A.Dehradun\n",
      "B.Lucknow\n",
      "C.Delhi\n",
      "D.Haidrabad\n",
      "Invalid option\n"
     ]
    }
   ],
   "source": [
    "print ('what is the capital of uttrakhand?') \n",
    "print('A.Dehradun')\n",
    "print('B.Lucknow')\n",
    "print('C.Delhi')\n",
    "print('D.Haidrabad')\n",
    "ans = input ('Enter option number:')\n",
    "match ans:\n",
    "    case 'A':\n",
    "        print('correct')\n",
    "    case'B','C','D':\n",
    "        print('wrong answer')\n",
    "    case _:\n",
    "        print('Invalid option')\n",
    "          "
   ]
  },
  {
   "cell_type": "code",
   "execution_count": null,
   "metadata": {},
   "outputs": [],
   "source": []
  },
  {
   "cell_type": "code",
   "execution_count": null,
   "metadata": {},
   "outputs": [],
   "source": []
  }
 ],
 "metadata": {
  "kernelspec": {
   "display_name": "Python 3",
   "language": "python",
   "name": "python3"
  },
  "language_info": {
   "codemirror_mode": {
    "name": "ipython",
    "version": 3
   },
   "file_extension": ".py",
   "mimetype": "text/x-python",
   "name": "python",
   "nbconvert_exporter": "python",
   "pygments_lexer": "ipython3",
   "version": "3.11.5"
  }
 },
 "nbformat": 4,
 "nbformat_minor": 2
}
