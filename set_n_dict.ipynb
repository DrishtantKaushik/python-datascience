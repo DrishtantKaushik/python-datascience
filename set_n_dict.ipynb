{
 "cells": [
  {
   "cell_type": "code",
   "execution_count": 1,
   "metadata": {},
   "outputs": [
    {
     "name": "stdout",
     "output_type": "stream",
     "text": [
      "set()\n",
      "(1, 2, 3, 4, 5, 6, 1, 2)\n",
      "{'the final empire', 'the hero of ages', 'the well of ascension'}\n"
     ]
    }
   ],
   "source": [
    "x = set() #empty\n",
    "print(x)\n",
    "y = (1,2,3,4,5,6,1,2)\n",
    "print(y)\n",
    "data = {'apple',205}\n",
    "a = set()\n",
    "a.add(\"the final empire\")\n",
    "a.add(\"the hero of ages\")\n",
    "a.add(\"the well of ascension\")\n",
    "print(a)"
   ]
  },
  {
   "cell_type": "code",
   "execution_count": 3,
   "metadata": {},
   "outputs": [
    {
     "name": "stdout",
     "output_type": "stream",
     "text": [
      "{'AppleSeed', 'the hero of ages', 'ApplePie', 'the final empire', 'the well of ascension'}\n"
     ]
    }
   ],
   "source": [
    "a.update([\"AppleSeed\",\"ApplePie\"])\n",
    "print(a)"
   ]
  },
  {
   "cell_type": "code",
   "execution_count": 4,
   "metadata": {},
   "outputs": [
    {
     "name": "stdout",
     "output_type": "stream",
     "text": [
      "{'the hero of ages', 'the final empire', 'the well of ascension'}\n"
     ]
    }
   ],
   "source": [
    "a.discard(\"AppleSeed\")\n",
    "a.discard(\"ApplePie\") # no error\n",
    "a.discard(\"AppleSeed\")\n",
    "print(a)"
   ]
  },
  {
   "cell_type": "code",
   "execution_count": 5,
   "metadata": {},
   "outputs": [
    {
     "name": "stdout",
     "output_type": "stream",
     "text": [
      "{1, 2, 3, 4, 5, 6}\n",
      "{1, 2, 3, 4, 5, 6, 7, 8, 9}\n",
      "{1, 2, 3, 4, 5, 6, 7, 8, 9}\n"
     ]
    }
   ],
   "source": [
    "a = {1,2,3}\n",
    "b = {4,5,6,}\n",
    "c = {7,8,9}\n",
    "\n",
    "ab = a.union(b)\n",
    "print(ab)\n",
    "\n",
    "print(a.union(b,c))\n",
    "print(a|b|c) # | is union"
   ]
  },
  {
   "cell_type": "code",
   "execution_count": 6,
   "metadata": {},
   "outputs": [
    {
     "name": "stdout",
     "output_type": "stream",
     "text": [
      "set()\n",
      "set()\n",
      "set()\n",
      "set()\n"
     ]
    }
   ],
   "source": [
    "print(a.intersection(b))\n",
    "print(a & b) # & is intersection\n",
    "print(a & c)\n",
    "print(a & b & c)"
   ]
  },
  {
   "cell_type": "code",
   "execution_count": 8,
   "metadata": {},
   "outputs": [
    {
     "name": "stdout",
     "output_type": "stream",
     "text": [
      "{1, 2, 3}\n",
      "{4, 5, 6}\n"
     ]
    }
   ],
   "source": [
    "print(a.difference(b))\n",
    "print(b.difference(a))"
   ]
  },
  {
   "cell_type": "code",
   "execution_count": 10,
   "metadata": {},
   "outputs": [
    {
     "name": "stdout",
     "output_type": "stream",
     "text": [
      "{1, 2, 3, 4, 5, 6}\n",
      "{1, 2, 3, 4, 5, 6}\n"
     ]
    }
   ],
   "source": [
    "print(a.symmetric_difference(b))\n",
    "print(a^b) # ^ is symmetric_difference"
   ]
  },
  {
   "cell_type": "markdown",
   "metadata": {},
   "source": [
    "Dictonary\n"
   ]
  },
  {
   "cell_type": "code",
   "execution_count": 35,
   "metadata": {},
   "outputs": [],
   "source": [
    "data = [\"Alex\", True, False, 29, \"New York\", \"Photograph\"]\n",
    " \n",
    "datadict = {\n",
    "    'name':'Alex',\n",
    "    'isMarried' : True,\n",
    "    'hasChildren' : False,\n",
    "    'age' : 29,\n",
    "    'city' : 'New York',\n",
    "    'profession' : 'Photograph'\n",
    "}"
   ]
  },
  {
   "cell_type": "code",
   "execution_count": 36,
   "metadata": {},
   "outputs": [],
   "source": [
    "movies = {} # empty dictonary\n",
    "\n",
    "expenditure = dict(\n",
    "    food = 500,\n",
    "    rent = 1700,\n",
    "    insurance = 200,\n",
    "    \n",
    ")"
   ]
  },
  {
   "cell_type": "code",
   "execution_count": 37,
   "metadata": {},
   "outputs": [
    {
     "name": "stdout",
     "output_type": "stream",
     "text": [
      "{'name': 'Alex', 'isMarried': True, 'hasChildren': False, 'age': 29, 'city': 'New York', 'profession': 'Photograph'}\n",
      "{'food': 500, 'rent': 1700, 'insurance': 200}\n"
     ]
    }
   ],
   "source": [
    "print(datadict)\n",
    "print(expenditure)\n",
    "\n",
    "\n",
    "\n",
    "\n",
    "\n"
   ]
  },
  {
   "cell_type": "markdown",
   "metadata": {},
   "source": [
    "- creating #\n",
    "- accessing\n",
    "- add or update\n",
    "- remove\n",
    "- teaversal"
   ]
  },
  {
   "cell_type": "code",
   "execution_count": 47,
   "metadata": {},
   "outputs": [
    {
     "data": {
      "text/plain": [
       "'Alex'"
      ]
     },
     "execution_count": 47,
     "metadata": {},
     "output_type": "execute_result"
    }
   ],
   "source": [
    "datadict['name']"
   ]
  },
  {
   "cell_type": "code",
   "execution_count": 38,
   "metadata": {},
   "outputs": [
    {
     "name": "stdout",
     "output_type": "stream",
     "text": [
      "Alex\n",
      "True\n",
      "New York\n"
     ]
    }
   ],
   "source": [
    "print(datadict['name'])\n",
    "print(datadict['isMarried'])\n",
    "print(datadict['city'])\n",
    "# print(datadict['state]) # keyError\n"
   ]
  },
  {
   "cell_type": "code",
   "execution_count": 12,
   "metadata": {},
   "outputs": [
    {
     "name": "stdout",
     "output_type": "stream",
     "text": [
      "None\n",
      "None\n",
      "New York\n",
      "100\n"
     ]
    }
   ],
   "source": [
    "print(datadict.get('city'))\n",
    "print(datadict.get('City')) #City is not in the dictonary\n",
    "print(datadict.get('age', 100))\n",
    "print(datadict.get('AGE', 100 )) # AGE is not in the dictonary"
   ]
  },
  {
   "cell_type": "code",
   "execution_count": 50,
   "metadata": {},
   "outputs": [
    {
     "name": "stdout",
     "output_type": "stream",
     "text": [
      "{'Deadpool & Wolverine': 'Shawn Levy', 'The Dark Knight': 'Christopher Nolan', 'The Prestige': 'Christopher Nolan', 'The Matrix': 'iron man', 'BahuBali': 'SS Rajamoli', 'Inception': 'Christopher Nplan'}\n"
     ]
    }
   ],
   "source": [
    "movies['Deadpool & Wolverine'] = \"Shawn Levy\"\n",
    "movies['BahuBali'] = \"SS Rajamoli\"\n",
    "movies['Inception'] = \"Christopher Nplan\"\n",
    "print(movies)"
   ]
  },
  {
   "cell_type": "code",
   "execution_count": 40,
   "metadata": {},
   "outputs": [
    {
     "name": "stdout",
     "output_type": "stream",
     "text": [
      "{'name': 'Alex', 'isMarried': True, 'hasChildren': False, 'age': 29, 'city': 'New York', 'profession': 'Photograph'}\n"
     ]
    }
   ],
   "source": [
    "movies.update(\n",
    "    {'The Dark Knight': 'Christopher Nolan',\n",
    "     'The Prestige': 'Christopher Nolan',\n",
    "     'The Matrix': 'iron man'\n",
    "        \n",
    "    }\n",
    ")\n",
    "print(datadict)"
   ]
  },
  {
   "cell_type": "code",
   "execution_count": 17,
   "metadata": {},
   "outputs": [
    {
     "name": "stdout",
     "output_type": "stream",
     "text": [
      "{'name': 'Alexander', 'isMarried': True, 'hasChildren': False, 'age': 'New York', 'profession': 'Photograph'}\n"
     ]
    }
   ],
   "source": [
    "datadict['name'] = 'Alexander'\n",
    "print(datadict)"
   ]
  },
  {
   "cell_type": "code",
   "execution_count": 51,
   "metadata": {},
   "outputs": [
    {
     "data": {
      "text/plain": [
       "'SS Rajamoli'"
      ]
     },
     "execution_count": 51,
     "metadata": {},
     "output_type": "execute_result"
    }
   ],
   "source": [
    "movies.pop(\"BahuBali\")"
   ]
  },
  {
   "cell_type": "code",
   "execution_count": 43,
   "metadata": {},
   "outputs": [
    {
     "data": {
      "text/plain": [
       "{'Deadpool & Wolverine': 'Shawn Levy',\n",
       " 'The Dark Knight': 'Christopher Nolan',\n",
       " 'The Prestige': 'Christopher Nolan',\n",
       " 'The Matrix': 'iron man'}"
      ]
     },
     "execution_count": 43,
     "metadata": {},
     "output_type": "execute_result"
    }
   ],
   "source": [
    "movies"
   ]
  },
  {
   "cell_type": "code",
   "execution_count": 22,
   "metadata": {},
   "outputs": [
    {
     "name": "stdout",
     "output_type": "stream",
     "text": [
      "name\n",
      "isMarried\n",
      "hasChildren\n",
      "age\n",
      "profession\n"
     ]
    }
   ],
   "source": [
    "for item in datadict:\n",
    "   print(item)"
   ]
  },
  {
   "cell_type": "code",
   "execution_count": 24,
   "metadata": {},
   "outputs": [
    {
     "name": "stdout",
     "output_type": "stream",
     "text": [
      "Alexander\n",
      "True\n",
      "False\n",
      "New York\n",
      "Photograph\n"
     ]
    }
   ],
   "source": [
    "for item in datadict:\n",
    "    print(datadict[item])"
   ]
  },
  {
   "cell_type": "code",
   "execution_count": 52,
   "metadata": {},
   "outputs": [
    {
     "ename": "SyntaxError",
     "evalue": "invalid syntax (2738185372.py, line 1)",
     "output_type": "error",
     "traceback": [
      "\u001b[1;36m  Cell \u001b[1;32mIn[52], line 1\u001b[1;36m\u001b[0m\n\u001b[1;33m    for k,v datadict.items():\u001b[0m\n\u001b[1;37m            ^\u001b[0m\n\u001b[1;31mSyntaxError\u001b[0m\u001b[1;31m:\u001b[0m invalid syntax\n"
     ]
    }
   ],
   "source": [
    "for k,v datadict.items():\n",
    "    print(k,v)"
   ]
  },
  {
   "cell_type": "code",
   "execution_count": 53,
   "metadata": {},
   "outputs": [
    {
     "ename": "AttributeError",
     "evalue": "'dict' object has no attribute 'key'",
     "output_type": "error",
     "traceback": [
      "\u001b[1;31m---------------------------------------------------------------------------\u001b[0m",
      "\u001b[1;31mAttributeError\u001b[0m                            Traceback (most recent call last)",
      "Cell \u001b[1;32mIn[53], line 1\u001b[0m\n\u001b[1;32m----> 1\u001b[0m \u001b[43mmovies\u001b[49m\u001b[38;5;241;43m.\u001b[39;49m\u001b[43mkey\u001b[49m()\n",
      "\u001b[1;31mAttributeError\u001b[0m: 'dict' object has no attribute 'key'"
     ]
    },
    {
     "ename": "",
     "evalue": "",
     "output_type": "error",
     "traceback": [
      "\u001b[1;31mThe Kernel crashed while executing code in the current cell or a previous cell. \n",
      "\u001b[1;31mPlease review the code in the cell(s) to identify a possible cause of the failure. \n",
      "\u001b[1;31mClick <a href='https://aka.ms/vscodeJupyterKernelCrash'>here</a> for more info. \n",
      "\u001b[1;31mView Jupyter <a href='command:jupyter.viewOutput'>log</a> for further details."
     ]
    }
   ],
   "source": [
    "movies.key()"
   ]
  },
  {
   "cell_type": "code",
   "execution_count": 46,
   "metadata": {},
   "outputs": [
    {
     "data": {
      "text/plain": [
       "dict_values(['Shawn Levy', 'Christopher Nolan', 'Christopher Nolan', 'iron man'])"
      ]
     },
     "execution_count": 46,
     "metadata": {},
     "output_type": "execute_result"
    }
   ],
   "source": [
    "movies.values()"
   ]
  },
  {
   "cell_type": "markdown",
   "metadata": {},
   "source": [
    "ensted dictonary"
   ]
  },
  {
   "cell_type": "code",
   "execution_count": 30,
   "metadata": {},
   "outputs": [],
   "source": [
    "report = {\n",
    "    '01': {\n",
    "        'name':\"alex\",\n",
    "        'subject': {\n",
    "            'math':90,\n",
    "            'science':70,\n",
    "            'english':66\n",
    "        }\n",
    "    },\n",
    "    '02': {\n",
    "        'name':\"John\",\n",
    "        'subject': {\n",
    "            'math':80,\n",
    "            'science':75,\n",
    "            'english':85\n",
    "        }\n",
    "    }\n",
    "}"
   ]
  },
  {
   "cell_type": "code",
   "execution_count": null,
   "metadata": {},
   "outputs": [],
   "source": [
    "report"
   ]
  },
  {
   "cell_type": "code",
   "execution_count": 31,
   "metadata": {},
   "outputs": [],
   "source": [
    "from pprint import pp"
   ]
  },
  {
   "cell_type": "code",
   "execution_count": 32,
   "metadata": {},
   "outputs": [
    {
     "name": "stdout",
     "output_type": "stream",
     "text": [
      "{'01': {'name': 'alex', 'subject': {'math': 90, 'science': 70, 'english': 66}},\n",
      " '02': {'name': 'John', 'subject': {'math': 80, 'science': 75, 'english': 85}}}\n"
     ]
    }
   ],
   "source": [
    "pp(report)"
   ]
  },
  {
   "cell_type": "code",
   "execution_count": 34,
   "metadata": {},
   "outputs": [
    {
     "name": "stdout",
     "output_type": "stream",
     "text": [
      "{'year': [2019, 2020, 2021, 2022, 2023], 'rainfall': [100, 200, 150, 300, 250]}\n"
     ]
    }
   ],
   "source": [
    "rainfall_data = {\n",
    "    'year':[2019,2020,2021,2022,2023],\n",
    "    'rainfall':[100,200,150,300,250]\n",
    "}\n",
    "print(rainfall_data)"
   ]
  },
  {
   "cell_type": "code",
   "execution_count": 8,
   "metadata": {},
   "outputs": [
    {
     "name": "stdout",
     "output_type": "stream",
     "text": [
      "[1]\n",
      "[1, 8, 27, 64, 125, 8]\n",
      "[1, 8, 27, 64, 125, 27]\n",
      "[1, 8, 27, 64, 125, 64]\n",
      "[1, 8, 27, 64, 125, 125]\n",
      "[1, 8, 27, 64, 125]\n",
      "[1, 8, 27, 64, 125]\n"
     ]
    }
   ],
   "source": [
    "x = [1,2,3,4,5,]\n",
    "\n",
    "#style1\n",
    "x3 = []\n",
    "for i in x:\n",
    "    x3.append(i**3)\n",
    "    print(x3)\n",
    "    \n",
    "#style 2 -(comprehension)\n",
    "    x3 = [i**3 for i in x]\n",
    "print(x3)\n",
    "    \n",
    "# style 3 - (map with lambda)\n",
    "x3 = list(map(lambda i: i**3, x))\n",
    "print(x3)"
   ]
  },
  {
   "cell_type": "code",
   "execution_count": 11,
   "metadata": {},
   "outputs": [
    {
     "name": "stdout",
     "output_type": "stream",
     "text": [
      "[1, 2, 3, 4, 5, 6]\n"
     ]
    }
   ],
   "source": [
    "x = [1,2,'a','b',3,'2',4,5,6,]\n",
    "num = filter(lambda i :isinstance(i, int), x)\n",
    "num = list(num) #set(num) or tuple(num)\n",
    "print(num)"
   ]
  },
  {
   "cell_type": "code",
   "execution_count": null,
   "metadata": {},
   "outputs": [],
   "source": []
  }
 ],
 "metadata": {
  "kernelspec": {
   "display_name": "Python 3",
   "language": "python",
   "name": "python3"
  },
  "language_info": {
   "codemirror_mode": {
    "name": "ipython",
    "version": 3
   },
   "file_extension": ".py",
   "mimetype": "text/x-python",
   "name": "python",
   "nbconvert_exporter": "python",
   "pygments_lexer": "ipython3",
   "version": "3.12.1"
  }
 },
 "nbformat": 4,
 "nbformat_minor": 2
}
