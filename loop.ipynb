{
 "cells": [
  {
   "cell_type": "code",
   "execution_count": 9,
   "metadata": {},
   "outputs": [
    {
     "name": "stdout",
     "output_type": "stream",
     "text": [
      "multiplication table of {num}:\n",
      "9*1=9\n",
      "9*2=18\n",
      "9*3=27\n",
      "9*4=36\n",
      "9*5=45\n",
      "9*6=54\n",
      "9*7=63\n",
      "9*8=72\n",
      "9*9=81\n",
      "9*10=90\n"
     ]
    }
   ],
   "source": [
    "n = int(input(\"Enter a number:\"))\n",
    "i = 1\n",
    "print(\"multiplication table of {num}:\")\n",
    "while i<=10:\n",
    "    result = num * i\n",
    "    print(f\"{num}*{i}={result}\")\n",
    "    i += 1"
   ]
  },
  {
   "cell_type": "code",
   "execution_count": null,
   "metadata": {},
   "outputs": [],
   "source": [
    "total = 0\n",
    "for i in range(1,101):\n",
    "    if i%2 ==0:\n",
    "        total += i\n",
    "        "
   ]
  },
  {
   "cell_type": "code",
   "execution_count": 5,
   "metadata": {},
   "outputs": [
    {
     "name": "stdout",
     "output_type": "stream",
     "text": [
      "9%2 = 0\n",
      "9%3 = 0\n",
      "9 is not aprime number\n"
     ]
    }
   ],
   "source": [
    "n = int(input(\"Enter a number:\"))\n",
    "i = 2\n",
    "while i < n:\n",
    "    print(f'{n}%{i} = {n%1}')\n",
    "    if n%i == 0:\n",
    "       print(f'{n} is not aprime number')\n",
    "       break\n",
    "    i += 1\n",
    "else:\n",
    "    print(f'{n} is a prime number')    \n"
   ]
  },
  {
   "cell_type": "code",
   "execution_count": 7,
   "metadata": {},
   "outputs": [
    {
     "name": "stdout",
     "output_type": "stream",
     "text": [
      "factorial of 9 is 9\n",
      "factorial of 9 is 72\n",
      "factorial of 9 is 504\n",
      "factorial of 9 is 3024\n",
      "factorial of 9 is 15120\n",
      "factorial of 9 is 60480\n",
      "factorial of 9 is 181440\n",
      "factorial of 9 is 362880\n",
      "factorial of 9 is 362880\n"
     ]
    }
   ],
   "source": [
    "num = 9\n",
    "fact = 1\n",
    "for i in range(num, 0, -1):\n",
    "    fact *= i\n",
    "    print(f'factorial of {num} is {fact}')"
   ]
  },
  {
   "cell_type": "code",
   "execution_count": 8,
   "metadata": {},
   "outputs": [
    {
     "name": "stdout",
     "output_type": "stream",
     "text": [
      "max= 13\n",
      "max= 24\n",
      "max= 65\n",
      "max= 78\n",
      "max= 176\n",
      "max= 999\n"
     ]
    }
   ],
   "source": [
    "x = [1,13,24,65,78,176,999,7,76,54]\n",
    "m = x[0]\n",
    "for i in x:\n",
    "    if i> m:\n",
    "        m = i\n",
    "        print('max=', m)"
   ]
  }
 ],
 "metadata": {
  "kernelspec": {
   "display_name": "base",
   "language": "python",
   "name": "python3"
  },
  "language_info": {
   "codemirror_mode": {
    "name": "ipython",
    "version": 3
   },
   "file_extension": ".py",
   "mimetype": "text/x-python",
   "name": "python",
   "nbconvert_exporter": "python",
   "pygments_lexer": "ipython3",
   "version": "3.11.5"
  }
 },
 "nbformat": 4,
 "nbformat_minor": 2
}
