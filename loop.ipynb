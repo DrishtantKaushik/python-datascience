{
 "cells": [
  {
   "cell_type": "code",
   "execution_count": 2,
   "metadata": {},
   "outputs": [
    {
     "name": "stdout",
     "output_type": "stream",
     "text": [
      "multiplication table of {num}:\n"
     ]
    },
    {
     "ename": "NameError",
     "evalue": "name 'num' is not defined",
     "output_type": "error",
     "traceback": [
      "\u001b[1;31m---------------------------------------------------------------------------\u001b[0m",
      "\u001b[1;31mNameError\u001b[0m                                 Traceback (most recent call last)",
      "Cell \u001b[1;32mIn[2], line 5\u001b[0m\n\u001b[0;32m      3\u001b[0m \u001b[38;5;28mprint\u001b[39m(\u001b[38;5;124m\"\u001b[39m\u001b[38;5;124mmultiplication table of \u001b[39m\u001b[38;5;132;01m{num}\u001b[39;00m\u001b[38;5;124m:\u001b[39m\u001b[38;5;124m\"\u001b[39m)\n\u001b[0;32m      4\u001b[0m \u001b[38;5;28;01mwhile\u001b[39;00m i\u001b[38;5;241m<\u001b[39m\u001b[38;5;241m=\u001b[39m\u001b[38;5;241m10\u001b[39m:\n\u001b[1;32m----> 5\u001b[0m     result \u001b[38;5;241m=\u001b[39m num\u001b[38;5;241m*\u001b[39m i\n\u001b[0;32m      6\u001b[0m     \u001b[38;5;28mprint\u001b[39m(\u001b[38;5;124mf\u001b[39m\u001b[38;5;124m\"\u001b[39m\u001b[38;5;132;01m{\u001b[39;00mnum\u001b[38;5;132;01m}\u001b[39;00m\u001b[38;5;124m*\u001b[39m\u001b[38;5;132;01m{\u001b[39;00mi\u001b[38;5;132;01m}\u001b[39;00m\u001b[38;5;124m=\u001b[39m\u001b[38;5;132;01m{\u001b[39;00mresult\u001b[38;5;132;01m}\u001b[39;00m\u001b[38;5;124m\"\u001b[39m)\n\u001b[0;32m      7\u001b[0m     i \u001b[38;5;241m+\u001b[39m\u001b[38;5;241m=\u001b[39m \u001b[38;5;241m1\u001b[39m\n",
      "\u001b[1;31mNameError\u001b[0m: name 'num' is not defined"
     ]
    }
   ],
   "source": [
    "n = int(input(\"Enter a number:\"))\n",
    "i =1\n",
    "print(\"multiplication table of {num}:\")\n",
    "while i<=10:\n",
    "    result = num* i\n",
    "    print(f\"{num}*{i}={result}\")\n",
    "    i += 1"
   ]
  },
  {
   "cell_type": "code",
   "execution_count": null,
   "metadata": {},
   "outputs": [],
   "source": [
    "total = 0\n",
    "for i in range(1,101):\n",
    "    if i%2 ==0:\n",
    "        total += i\n",
    "        "
   ]
  },
  {
   "cell_type": "code",
   "execution_count": 5,
   "metadata": {},
   "outputs": [
    {
     "name": "stdout",
     "output_type": "stream",
     "text": [
      "9%2 = 0\n",
      "9%3 = 0\n",
      "9 is not aprime number\n"
     ]
    }
   ],
   "source": [
    "n = int(input(\"Enter a number:\"))\n",
    "i = 2\n",
    "while i < n:\n",
    "    print(f'{n}%{i} = {n%1}')\n",
    "    if n%i == 0:\n",
    "       print(f'{n} is not aprime number')\n",
    "       break\n",
    "    i += 1\n",
    "else:\n",
    "    print(f'{n} is a prime number')    \n"
   ]
  },
  {
   "cell_type": "code",
   "execution_count": 7,
   "metadata": {},
   "outputs": [
    {
     "name": "stdout",
     "output_type": "stream",
     "text": [
      "factorial of 9 is 9\n",
      "factorial of 9 is 72\n",
      "factorial of 9 is 504\n",
      "factorial of 9 is 3024\n",
      "factorial of 9 is 15120\n",
      "factorial of 9 is 60480\n",
      "factorial of 9 is 181440\n",
      "factorial of 9 is 362880\n",
      "factorial of 9 is 362880\n"
     ]
    }
   ],
   "source": [
    "num = 9\n",
    "fact = 1\n",
    "for i in range(num, 0, -1):\n",
    "    fact *= i\n",
    "    print(f'factorial of {num} is {fact}')"
   ]
  },
  {
   "cell_type": "code",
   "execution_count": 8,
   "metadata": {},
   "outputs": [
    {
     "name": "stdout",
     "output_type": "stream",
     "text": [
      "max= 13\n",
      "max= 24\n",
      "max= 65\n",
      "max= 78\n",
      "max= 176\n",
      "max= 999\n"
     ]
    }
   ],
   "source": [
    "x = [1,13,24,65,78,176,999,7,76,54]\n",
    "m = x[0]\n",
    "for i in x:\n",
    "    if i> m:\n",
    "        m = i\n",
    "        print('max=', m)"
   ]
  }
 ],
 "metadata": {
  "kernelspec": {
   "display_name": "base",
   "language": "python",
   "name": "python3"
  },
  "language_info": {
   "codemirror_mode": {
    "name": "ipython",
    "version": 3
   },
   "file_extension": ".py",
   "mimetype": "text/x-python",
   "name": "python",
   "nbconvert_exporter": "python",
   "pygments_lexer": "ipython3",
   "version": "3.11.5"
  }
 },
 "nbformat": 4,
 "nbformat_minor": 2
}
