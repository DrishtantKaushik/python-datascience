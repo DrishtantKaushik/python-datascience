{
 "cells": [
  {
   "cell_type": "markdown",
   "metadata": {},
   "source": [
    "# list\n",
    "-create\n",
    "-indexing"
   ]
  },
  {
   "cell_type": "code",
   "execution_count": 2,
   "metadata": {},
   "outputs": [
    {
     "name": "stdout",
     "output_type": "stream",
     "text": [
      "[1, 2, 3] <class 'list'>\n",
      "['Alice', 'Bob', 'Charlie'] <class 'list'>\n",
      "['apple', 50, 'mango,100', 'orange', 70]\n",
      "([[1, 2, 3]], [4, 5, 6], [7, 8])\n",
      "[1, 1, 1, 1, 1, 1, 1, 1, 1, 1]\n",
      "['v', 'e', 'r', 't', 'e', 'x']\n",
      "<built-in method split of str object at 0x00000289916B5D40>\n"
     ]
    }
   ],
   "source": [
    "a =[1,2,3]\n",
    "print(a, type(a))\n",
    "name = ['Alice', 'Bob', 'Charlie']\n",
    "print(name,type(name))\n",
    "data = ['apple',50,'mango,100','orange',70]\n",
    "nested_list = [[1,2,3]],[4,5,6],[7,8]\n",
    "print(data)\n",
    "print(nested_list)\n",
    "duplicate_list = [1] * 10 \n",
    "print(duplicate_list)\n",
    "print(list('vertex'))\n",
    "print('welcome to listing'.split)   "
   ]
  },
  {
   "cell_type": "code",
   "execution_count": 12,
   "metadata": {},
   "outputs": [
    {
     "name": "stdout",
     "output_type": "stream",
     "text": [
      "first five =  [11, 12, 13, 14, 15]\n",
      "first five = [16, 17, 18, 19, 20]\n",
      "first element = 20\n",
      "first element= 11\n",
      "except first 2 and last 2 = [13, 14, 15, 16, 17, 18]\n",
      "reverse list = [20, 19, 18, 17, 16, 15, 14, 13, 12, 11]\n",
      "all even indexes = [11, 13, 15, 17, 19]\n",
      "all odd indexes = [12, 14, 16, 18, 20]\n"
     ]
    }
   ],
   "source": [
    "n =[11,12,13,14,15,16,17,18,19,20]\n",
    "print('first five = ',n[:5])\n",
    "print('first five =',n[-5:])\n",
    "print('first element =',n[-1])\n",
    "print('first element=',n[0])\n",
    "print('except first 2 and last 2 =',n[2: -2])\n",
    "print('reverse list =',n[::-1])\n",
    "print('all even indexes =',n[::2])\n",
    "print('all odd indexes =',n[1::2])\n",
    "\n"
   ]
  },
  {
   "cell_type": "code",
   "execution_count": 14,
   "metadata": {},
   "outputs": [
    {
     "name": "stdout",
     "output_type": "stream",
     "text": [
      "[200, 12, 13, 14, 15, 100, 17, 18, 19, 20]\n",
      "[200, 12, 13, 14, 15, 100, 17, 18, 19, 20]\n"
     ]
    }
   ],
   "source": [
    "# list is mutable\n",
    "n[5] = 100 # update\n",
    "print(n)\n",
    "n[0] = 200\n",
    "print(n)"
   ]
  },
  {
   "cell_type": "code",
   "execution_count": 18,
   "metadata": {},
   "outputs": [
    {
     "name": "stdout",
     "output_type": "stream",
     "text": [
      "<class 'list'>\n",
      "0\n",
      "['Star war', 'kalki', '3 ediots', 'Bhai meri jann', 'Bahubali', 'Bahubali 2', 'Fast and furious', 'Man in black', 'The lion king']\n",
      "9\n"
     ]
    }
   ],
   "source": [
    "movies = []\n",
    "print(type(movies))\n",
    "print(len(movies))\n",
    "movies.append(\"Star war\")\n",
    "movies.append(\"kalki\")\n",
    "movies.append(\"3 ediots\")\n",
    "movies.append(\"Bhai meri jann\")\n",
    "movies.append(\"Bahubali\")\n",
    "movies.append(\"Bahubali 2\")\n",
    "movies.append(\"Fast and furious\")\n",
    "movies.append(\"Man in black\")\n",
    "movies.append(\"The lion king\")\n",
    "print(movies)\n",
    "print(len(movies))\n",
    "\n"
   ]
  },
  {
   "cell_type": "code",
   "execution_count": 19,
   "metadata": {},
   "outputs": [
    {
     "name": "stdout",
     "output_type": "stream",
     "text": [
      "['Fast and furious 2', 'Man in black', 'Fast and furious 2']\n",
      "['Fast and furious 2', 'Man in black', 'Fast and furious 2', 'Fast and furious']\n"
     ]
    }
   ],
   "source": [
    "ff = ['Fast and furious 2',\n",
    "      'Man in black']\n",
    "ff.append(\"Fast and furious 2\")\n",
    "print(ff)\n",
    "ff.insert(3,'Fast and furious')\n",
    "print(ff)"
   ]
  },
  {
   "cell_type": "code",
   "execution_count": 20,
   "metadata": {},
   "outputs": [
    {
     "name": "stdout",
     "output_type": "stream",
     "text": [
      "[200, 12, 13, 4, 14, 15, 100, 17, 18, 19, 20]\n",
      "[200, 12, 13, 4, 5, 14, 15, 100, 17, 18, 19, 20]\n",
      "[200, 12, 13, 4, 5, 14, 15, 100, 17, 18, 19, 20, 5]\n"
     ]
    }
   ],
   "source": [
    "on = [1,2,3,6,7,8,9]\n",
    "n.insert(3,4)\n",
    "print(n)\n",
    "n.insert(4,5)\n",
    "print(n)\n",
    "n.insert(100,5)\n",
    "print(n)"
   ]
  },
  {
   "cell_type": "code",
   "execution_count": 24,
   "metadata": {},
   "outputs": [
    {
     "name": "stdout",
     "output_type": "stream",
     "text": [
      "[1, 2, 3, 4, 5, 6]\n",
      "[4, 5, 6]\n",
      "[4, 5, 6, 7, 8, 9]\n",
      "[7, 8, 9, 1, 2, 3, 4, 5, 5]\n"
     ]
    }
   ],
   "source": [
    "# adding a list in another list\n",
    "l1 = [1,2,3]\n",
    "l2 = [4,5,6]\n",
    "l3 = [7,8,9]\n",
    "l1.extend(l2)\n",
    "print(l1)\n",
    "print(l2)\n",
    "l2.extend(l3)\n",
    "print(l2)\n",
    "l3.extend([1,2,3,4,5,5])\n",
    "print(l3)\n"
   ]
  }
 ],
 "metadata": {
  "kernelspec": {
   "display_name": "base",
   "language": "python",
   "name": "python3"
  },
  "language_info": {
   "codemirror_mode": {
    "name": "ipython",
    "version": 3
   },
   "file_extension": ".py",
   "mimetype": "text/x-python",
   "name": "python",
   "nbconvert_exporter": "python",
   "pygments_lexer": "ipython3",
   "version": "3.11.5"
  }
 },
 "nbformat": 4,
 "nbformat_minor": 2
}
