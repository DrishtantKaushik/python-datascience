{
 "cells": [
  {
   "cell_type": "code",
   "execution_count": 2,
   "metadata": {},
   "outputs": [],
   "source": [
    "import os"
   ]
  },
  {
   "cell_type": "code",
   "execution_count": 3,
   "metadata": {},
   "outputs": [
    {
     "name": "stdout",
     "output_type": "stream",
     "text": [
      "c:\\Users\\GF63\\Documents\\python datascience\n"
     ]
    }
   ],
   "source": [
    "BASE_DIR =os.getcwd()\n",
    "print(BASE_DIR)"
   ]
  },
  {
   "cell_type": "code",
   "execution_count": 4,
   "metadata": {},
   "outputs": [
    {
     "name": "stdout",
     "output_type": "stream",
     "text": [
      "['.git', 'analytics', 'basics.ipynb', 'contacts.py', 'dictonary.ipynb', 'filehandling.ipynb', 'function.ipynb', 'functions .ipynb', 'game1.py', 'list.ipynb', 'lists.ipynb', 'lists1.ipynb', 'loop.ipynb', 'loop.py', 'loop0.py', 'loop1.py', 'loop11.py', 'loop2.py', 'loop3.py', 'loop4.py', 'loop5.py', 'loopque3.py', 'loopque4.py', 'loopque5.py', 'loopque6.py', 'pattern1.py', 'pattern2.py', 'print_multiplication_table.py', 'readme.md', 'set_n_dict.ipynb', 'strings.ipynb', 'stringshw.ipynb', 'tuples_n_set.ipynb']\n"
     ]
    }
   ],
   "source": [
    "content = os.listdir()\n",
    "print(content)"
   ]
  },
  {
   "cell_type": "code",
   "execution_count": 5,
   "metadata": {},
   "outputs": [
    {
     "name": "stdout",
     "output_type": "stream",
     "text": [
      "Total content 28\n"
     ]
    }
   ],
   "source": [
    "addr = r'C:\\Program Files'\n",
    "content = os.listdir(addr)\n",
    "print(f'Total content {len(content)}')"
   ]
  },
  {
   "cell_type": "code",
   "execution_count": 18,
   "metadata": {},
   "outputs": [],
   "source": [
    "# os.lis()"
   ]
  },
  {
   "cell_type": "code",
   "execution_count": 19,
   "metadata": {},
   "outputs": [
    {
     "name": "stdout",
     "output_type": "stream",
     "text": [
      "['$RECYCLE.BIN', 'cloudburst', 'Downloads', 'DumpStack.log.tmp', 'lock.bat', 'msdownld.tmp', 'Private', 'Program Files', 'shivam movies', 'SteamLibrary', 'System Volume Information', 'WhatsApp Images']\n"
     ]
    }
   ],
   "source": [
    "os.chdir(\"D:\")\n",
    "print(os.listdir())"
   ]
  },
  {
   "cell_type": "code",
   "execution_count": 20,
   "metadata": {},
   "outputs": [
    {
     "data": {
      "text/plain": [
       "'D:\\\\'"
      ]
     },
     "execution_count": 20,
     "metadata": {},
     "output_type": "execute_result"
    }
   ],
   "source": [
    "os.getcwd()"
   ]
  },
  {
   "cell_type": "code",
   "execution_count": 21,
   "metadata": {},
   "outputs": [],
   "source": [
    "os.makedirs(\"mynotes\" , exist_ok=True)"
   ]
  },
  {
   "cell_type": "markdown",
   "metadata": {},
   "source": [
    "# python file handling\n",
    "\n",
    "open() -open file resources and return a file object\n",
    "\n",
    "- modes\n",
    " - 'r' - read more default\n",
    " - 'w' - write mode\n",
    " - 'a' - append mode"
   ]
  },
  {
   "cell_type": "code",
   "execution_count": 22,
   "metadata": {},
   "outputs": [],
   "source": [
    "with open ('mynotes/note1.txt' , 'w')as f:\n",
    "    f.write(\"This is my first note:\\n\")\n",
    "    f.write(\"Python file is the super easy\\n\")\n",
    "    f.write(\"You can create and delete file easily\\n\")"
   ]
  },
  {
   "cell_type": "code",
   "execution_count": 23,
   "metadata": {},
   "outputs": [],
   "source": [
    "with open ('mynotes/note1.txt' , 'w')as f:\n",
    "    f.write(\"Os module is the best\\n\")\n",
    "    f.write(\"Python file handling is super easy\\n\")\n",
    "    f.write(\"####\\n\")"
   ]
  },
  {
   "cell_type": "code",
   "execution_count": 25,
   "metadata": {},
   "outputs": [
    {
     "name": "stdout",
     "output_type": "stream",
     "text": [
      "Os module is the best\n",
      "Python file handling is super easy\n",
      "####\n",
      "\n"
     ]
    }
   ],
   "source": [
    "with open(\"mynotes/note1.txt\") as file:\n",
    "    data = file.read()\n",
    "    print(data)"
   ]
  },
  {
   "cell_type": "code",
   "execution_count": 27,
   "metadata": {},
   "outputs": [
    {
     "name": "stdout",
     "output_type": "stream",
     "text": [
      "def reverse(str_r):\n",
      "    str_r=str_r[::-1]\n",
      "    return  str_r\n",
      "\n",
      "\n",
      "str_r=\"DIGIPODIUM\"\n",
      "print(reverse(str_r))\n"
     ]
    }
   ],
   "source": [
    "with open(r'C:\\Users\\GF63\\Documents\\python datascience\\loop0.py') as f:\n",
    "    data =f.read()\n",
    "    print(data)"
   ]
  },
  {
   "cell_type": "code",
   "execution_count": 30,
   "metadata": {},
   "outputs": [
    {
     "name": "stdout",
     "output_type": "stream",
     "text": [
      "['AKSHAY 01.pdf', 'AnnualCalendar-2024-engl-100523 prashant kaushik.pdf', 'AnnuCalend_2023_Eng_04052022 prashant kaushik.pdf', 'BAMS-Fee-structure-2023-24 rohelkhand.pdf', 'DK_FRONTPAGE.pdf', 'DocScanner Jun 19, 2023 10-57 (1).pdf', 'DocScanner Jun 19, 2023 11-00.pdf', 'DocScanner Jun 19, 2023 11-02.pdf', 'DSD Zindabad  (1).pdf', 'DSD Zindabad .pdf', 'ImageToPDF_1687152614970 (1).pdf', 'ImageToPDF_1687152614970 (2).pdf', 'ImageToPDF_1687152614970 (3).pdf', 'ImageToPDF_1687152614970 (4).pdf', 'ImageToPDF_1687152614970 (5).pdf', 'ImageToPDF_1687152614970 (6).pdf', 'ImageToPDF_1687152614970 (7).pdf', 'ImageToPDF_1687152614970 (8).pdf', 'ImageToPDF_1687152614970.pdf', 'ImageToPDF_1687152664072.pdf', 'let-us-C++-yashwant-kanetkar.pdf', 'let-us-c-14 (1).pdf', 'let-us-c-14.pdf', 'neet.ntaonline.in_frontend_web_scorecard_index.pdf', 'Network theory (1).pdf', 'Network theory.pdf', 'Notes-Module-wise-KCS101-KCS201 (1).pdf', 'Notes-Module-wise-KCS101-KCS201 (2).pdf', 'Notes-Module-wise-KCS101-KCS201.pdf', 'ONE.pdf', 'OTR-10012520444.pdf', 'Payment-Slip (1).pdf', 'Payment-Slip.pdf', 'practical 2-5.pdf', 'resume_template_sir.pdf', 'unit 5 EE notes.pdf']\n"
     ]
    }
   ],
   "source": [
    "items = os.listdir('C:/Users/GF63/Downloads')\n",
    "pdfs = list(filter(lambda file: file.endswith('.pdf'), items))\n",
    "print(pdfs)\n"
   ]
  },
  {
   "cell_type": "code",
   "execution_count": 32,
   "metadata": {},
   "outputs": [
    {
     "name": "stdout",
     "output_type": "stream",
     "text": [
      "AKSHAY 01.pdf                                      2836.963867 KB\n",
      "AnnualCalendar-2024-engl-100523 prashant kaushik.pdf 157.916992 KB\n",
      "AnnuCalend_2023_Eng_04052022 prashant kaushik.pdf  551.696289 KB\n",
      "BAMS-Fee-structure-2023-24 rohelkhand.pdf          56.694336 KB\n",
      "DK_FRONTPAGE.pdf                                   218.434570 KB\n",
      "DocScanner Jun 19, 2023 10-57 (1).pdf              7901.039062 KB\n",
      "DocScanner Jun 19, 2023 11-00.pdf                  2855.629883 KB\n",
      "DocScanner Jun 19, 2023 11-02.pdf                  514.520508 KB\n",
      "DSD Zindabad  (1).pdf                              7528.882812 KB\n",
      "DSD Zindabad .pdf                                  7528.882812 KB\n",
      "ImageToPDF_1687152614970 (1).pdf                   13467.762695 KB\n",
      "ImageToPDF_1687152614970 (2).pdf                   13467.762695 KB\n",
      "ImageToPDF_1687152614970 (3).pdf                   13467.762695 KB\n",
      "ImageToPDF_1687152614970 (4).pdf                   13467.762695 KB\n",
      "ImageToPDF_1687152614970 (5).pdf                   13467.762695 KB\n",
      "ImageToPDF_1687152614970 (6).pdf                   13467.762695 KB\n",
      "ImageToPDF_1687152614970 (7).pdf                   13467.762695 KB\n",
      "ImageToPDF_1687152614970 (8).pdf                   13467.762695 KB\n",
      "ImageToPDF_1687152614970.pdf                       13467.762695 KB\n",
      "ImageToPDF_1687152664072.pdf                       12589.967773 KB\n",
      "let-us-C++-yashwant-kanetkar.pdf                   423.701172 KB\n",
      "let-us-c-14 (1).pdf                                18106.317383 KB\n",
      "let-us-c-14.pdf                                    18106.317383 KB\n",
      "neet.ntaonline.in_frontend_web_scorecard_index.pdf 225.775391 KB\n",
      "Network theory (1).pdf                             8342.003906 KB\n",
      "Network theory.pdf                                 8342.003906 KB\n",
      "Notes-Module-wise-KCS101-KCS201 (1).pdf            2032.292969 KB\n",
      "Notes-Module-wise-KCS101-KCS201 (2).pdf            2032.292969 KB\n",
      "Notes-Module-wise-KCS101-KCS201.pdf                2032.292969 KB\n",
      "ONE.pdf                                            512.182617 KB\n",
      "OTR-10012520444.pdf                                312.471680 KB\n",
      "Payment-Slip (1).pdf                               2.812500 KB\n",
      "Payment-Slip.pdf                                   2.812500 KB\n",
      "practical 2-5.pdf                                  3644.854492 KB\n",
      "resume_template_sir.pdf                            175.209961 KB\n",
      "unit 5 EE notes.pdf                                5926.030273 KB\n"
     ]
    }
   ],
   "source": [
    "for file in pdfs:\n",
    "    path =f'c:/Users/GF63/Downloads/{file}'\n",
    "    size = os.path.getsize(path)\n",
    "    print(f'{file:50} {size/1024:2f} KB')"
   ]
  },
  {
   "cell_type": "code",
   "execution_count": null,
   "metadata": {},
   "outputs": [],
   "source": [
    "eg"
   ]
  }
 ],
 "metadata": {
  "kernelspec": {
   "display_name": "base",
   "language": "python",
   "name": "python3"
  },
  "language_info": {
   "codemirror_mode": {
    "name": "ipython",
    "version": 3
   },
   "file_extension": ".py",
   "mimetype": "text/x-python",
   "name": "python",
   "nbconvert_exporter": "python",
   "pygments_lexer": "ipython3",
   "version": "3.11.5"
  }
 },
 "nbformat": 4,
 "nbformat_minor": 2
}
